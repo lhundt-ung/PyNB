{
 "cells": [
  {
   "cell_type": "markdown",
   "metadata": {},
   "source": [
    "# 1.8 Caffeine and Sleep"
   ]
  },
  {
   "cell_type": "code",
   "execution_count": 2,
   "metadata": {},
   "outputs": [],
   "source": [
    "from datascience import *\n",
    "import numpy as np\n",
    "from scipy.stats import t\n",
    "\n",
    "%matplotlib inline\n",
    "import matplotlib.pyplot as plots\n",
    "plots.style.use('fivethirtyeight')"
   ]
  },
  {
   "cell_type": "markdown",
   "metadata": {},
   "source": [
    "I keep some data frames in CSV format accessible from my website. One of them is called `personality.csv` and has, as you might imagine, personality variables. In this case, we will compare and contrast sleep and caffeine consumption levels based upon the grouping variables of biological sex and whether the students are at least 21 years old (Y/N response)."
   ]
  },
  {
   "cell_type": "code",
   "execution_count": 3,
   "metadata": {},
   "outputs": [
    {
     "data": {
      "text/plain": [
       "165"
      ]
     },
     "execution_count": 3,
     "metadata": {},
     "output_type": "execute_result"
    }
   ],
   "source": [
    "pers = Table.read_table('http://faculty.ung.edu/rsinn/personality.csv')\n",
    "pers.num_rows"
   ]
  },
  {
   "cell_type": "code",
   "execution_count": 4,
   "metadata": {},
   "outputs": [
    {
     "data": {
      "text/html": [
       "<table border=\"1\" class=\"dataframe\">\n",
       "    <thead>\n",
       "        <tr>\n",
       "            <th>Age</th> <th>Yr</th> <th>Sex</th> <th>G21</th> <th>Corps</th> <th>Res</th> <th>Greek</th> <th>VarsAth</th> <th>Honor</th> <th>GPA</th> <th>Sleep</th> <th>Caff</th> <th>SitClass</th> <th>AccDate</th> <th>Friends</th> <th>TxRel</th> <th>Stress1</th> <th>Stress2</th> <th>CHS</th> <th>Thrill</th> <th>Eat</th> <th>TypeA</th> <th>Anx</th> <th>Opt</th> <th>SE</th> <th>Neuro</th> <th>Perf</th> <th>OCD</th> <th>Play</th> <th>Extro</th> <th>Narc</th> <th>HSAF</th> <th>HSSE</th> <th>HSAG</th> <th>HSSD</th> <th>PHS</th>\n",
       "        </tr>\n",
       "    </thead>\n",
       "    <tbody>\n",
       "        <tr>\n",
       "            <td>22  </td> <td>4   </td> <td>M   </td> <td>Y   </td> <td>N    </td> <td>2   </td> <td>N    </td> <td>Y      </td> <td>N    </td> <td>3.01</td> <td>5    </td> <td>1   </td> <td>M       </td> <td>N      </td> <td>E      </td> <td>22   </td> <td>17     </td> <td>18     </td> <td>33  </td> <td>23    </td> <td>13  </td> <td>30   </td> <td>25  </td> <td>26  </td> <td>62  </td> <td>34   </td> <td>104 </td> <td>11  </td> <td>143 </td> <td>10   </td> <td>9   </td> <td>51  </td> <td>54  </td> <td>46  </td> <td>21  </td> <td>AG  </td>\n",
       "        </tr>\n",
       "        <tr>\n",
       "            <td>19  </td> <td>2   </td> <td>F   </td> <td>N   </td> <td>N    </td> <td>1   </td> <td>N    </td> <td>N      </td> <td>N    </td> <td>3.75</td> <td>7.5  </td> <td>0   </td> <td>M       </td> <td>N      </td> <td>E      </td> <td>28   </td> <td>9      </td> <td>7      </td> <td>20  </td> <td>15    </td> <td>21  </td> <td>28   </td> <td>28  </td> <td>21  </td> <td>65  </td> <td>41   </td> <td>99  </td> <td>11  </td> <td>141 </td> <td>14   </td> <td>3   </td> <td>44  </td> <td>35  </td> <td>19  </td> <td>17  </td> <td>AF  </td>\n",
       "        </tr>\n",
       "        <tr>\n",
       "            <td>23  </td> <td>1   </td> <td>F   </td> <td>Y   </td> <td>N    </td> <td>1   </td> <td>N    </td> <td>N      </td> <td>N    </td> <td>3.2 </td> <td>8.5  </td> <td>2   </td> <td>F       </td> <td>Y      </td> <td>S      </td> <td>24   </td> <td>11     </td> <td>13     </td> <td>27  </td> <td>14    </td> <td>39  </td> <td>29   </td> <td>27  </td> <td>19  </td> <td>65  </td> <td>28   </td> <td>86  </td> <td>6   </td> <td>98  </td> <td>7    </td> <td>2   </td> <td>31  </td> <td>36  </td> <td>21  </td> <td>19  </td> <td>SE  </td>\n",
       "        </tr>\n",
       "        <tr>\n",
       "            <td>19  </td> <td>3   </td> <td>F   </td> <td>N   </td> <td>N    </td> <td>2   </td> <td>Y    </td> <td>N      </td> <td>N    </td> <td>4   </td> <td>6    </td> <td>2   </td> <td>F       </td> <td>N      </td> <td>S      </td> <td>27   </td> <td>15     </td> <td>14     </td> <td>26  </td> <td>13    </td> <td>45  </td> <td>28   </td> <td>33  </td> <td>24  </td> <td>63  </td> <td>30   </td> <td>118 </td> <td>3   </td> <td>121 </td> <td>8    </td> <td>4   </td> <td>34  </td> <td>36  </td> <td>30  </td> <td>33  </td> <td>SD  </td>\n",
       "        </tr>\n",
       "        <tr>\n",
       "            <td>22  </td> <td>4   </td> <td>M   </td> <td>Y   </td> <td>Y    </td> <td>3   </td> <td>Y    </td> <td>N      </td> <td>Y    </td> <td>3.42</td> <td>6    </td> <td>3   </td> <td>B       </td> <td>Y      </td> <td>S      </td> <td>20   </td> <td>9      </td> <td>9      </td> <td>32  </td> <td>16    </td> <td>32  </td> <td>30   </td> <td>29  </td> <td>18  </td> <td>41  </td> <td>47   </td> <td>103 </td> <td>9   </td> <td>124 </td> <td>6    </td> <td>4   </td> <td>50  </td> <td>42  </td> <td>37  </td> <td>34  </td> <td>AG  </td>\n",
       "        </tr>\n",
       "        <tr>\n",
       "            <td>18  </td> <td>1   </td> <td>F   </td> <td>N   </td> <td>N    </td> <td>3   </td> <td>N    </td> <td>N      </td> <td>N    </td> <td>3.7 </td> <td>2.5  </td> <td>1   </td> <td>F       </td> <td>Y      </td> <td>E      </td> <td>21   </td> <td>16     </td> <td>15     </td> <td>25  </td> <td>18    </td> <td>32  </td> <td>30   </td> <td>46  </td> <td>19  </td> <td>48  </td> <td>53   </td> <td>113 </td> <td>16  </td> <td>131 </td> <td>6    </td> <td>2   </td> <td>33  </td> <td>32  </td> <td>29  </td> <td>33  </td> <td>SD  </td>\n",
       "        </tr>\n",
       "        <tr>\n",
       "            <td>19  </td> <td>2   </td> <td>M   </td> <td>N   </td> <td>N    </td> <td>3   </td> <td>N    </td> <td>N      </td> <td>N    </td> <td>2.8 </td> <td>7    </td> <td>0   </td> <td>B       </td> <td>N      </td> <td>E      </td> <td>23   </td> <td>13     </td> <td>15     </td> <td>25  </td> <td>15    </td> <td>19  </td> <td>nan  </td> <td>nan </td> <td>nan </td> <td>nan </td> <td>nan  </td> <td>105 </td> <td>16  </td> <td>121 </td> <td>5    </td> <td>5   </td> <td>nan </td> <td>nan </td> <td>nan </td> <td>nan </td> <td>nan </td>\n",
       "        </tr>\n",
       "        <tr>\n",
       "            <td>20  </td> <td>3   </td> <td>M   </td> <td>N   </td> <td>Y    </td> <td>1   </td> <td>Y    </td> <td>N      </td> <td>N    </td> <td>3.34</td> <td>6.5  </td> <td>3   </td> <td>B       </td> <td>N      </td> <td>E      </td> <td>29   </td> <td>12     </td> <td>10     </td> <td>21  </td> <td>18    </td> <td>32  </td> <td>32   </td> <td>30  </td> <td>23  </td> <td>62  </td> <td>23   </td> <td>95  </td> <td>4   </td> <td>104 </td> <td>11   </td> <td>6   </td> <td>35  </td> <td>32  </td> <td>30  </td> <td>32  </td> <td>SD  </td>\n",
       "        </tr>\n",
       "        <tr>\n",
       "            <td>21  </td> <td>3   </td> <td>F   </td> <td>Y   </td> <td>N    </td> <td>2   </td> <td>Y    </td> <td>N      </td> <td>N    </td> <td>3.47</td> <td>5.5  </td> <td>2   </td> <td>F       </td> <td>Y      </td> <td>E      </td> <td>19   </td> <td>18     </td> <td>16     </td> <td>8   </td> <td>18    </td> <td>18  </td> <td>25   </td> <td>42  </td> <td>18  </td> <td>57  </td> <td>70   </td> <td>126 </td> <td>9   </td> <td>128 </td> <td>9    </td> <td>nan </td> <td>20  </td> <td>23  </td> <td>19  </td> <td>25  </td> <td>SD  </td>\n",
       "        </tr>\n",
       "        <tr>\n",
       "            <td>24  </td> <td>2   </td> <td>F   </td> <td>Y   </td> <td>Y    </td> <td>3   </td> <td>N    </td> <td>N      </td> <td>N    </td> <td>2.05</td> <td>2.5  </td> <td>0   </td> <td>F       </td> <td>Y      </td> <td>E      </td> <td>25   </td> <td>17     </td> <td>17     </td> <td>22  </td> <td>30    </td> <td>40  </td> <td>30   </td> <td>36  </td> <td>18  </td> <td>55  </td> <td>50   </td> <td>107 </td> <td>14  </td> <td>108 </td> <td>9    </td> <td>8   </td> <td>31  </td> <td>32  </td> <td>33  </td> <td>32  </td> <td>AG  </td>\n",
       "        </tr>\n",
       "    </tbody>\n",
       "</table>\n",
       "<p>... (155 rows omitted)</p>"
      ],
      "text/plain": [
       "Age  | Yr   | Sex  | G21  | Corps | Res  | Greek | VarsAth | Honor | GPA  | Sleep | Caff | SitClass | AccDate | Friends | TxRel | Stress1 | Stress2 | CHS  | Thrill | Eat  | TypeA | Anx  | Opt  | SE   | Neuro | Perf | OCD  | Play | Extro | Narc | HSAF | HSSE | HSAG | HSSD | PHS\n",
       "22   | 4    | M    | Y    | N     | 2    | N     | Y       | N     | 3.01 | 5     | 1    | M        | N       | E       | 22    | 17      | 18      | 33   | 23     | 13   | 30    | 25   | 26   | 62   | 34    | 104  | 11   | 143  | 10    | 9    | 51   | 54   | 46   | 21   | AG\n",
       "19   | 2    | F    | N    | N     | 1    | N     | N       | N     | 3.75 | 7.5   | 0    | M        | N       | E       | 28    | 9       | 7       | 20   | 15     | 21   | 28    | 28   | 21   | 65   | 41    | 99   | 11   | 141  | 14    | 3    | 44   | 35   | 19   | 17   | AF\n",
       "23   | 1    | F    | Y    | N     | 1    | N     | N       | N     | 3.2  | 8.5   | 2    | F        | Y       | S       | 24    | 11      | 13      | 27   | 14     | 39   | 29    | 27   | 19   | 65   | 28    | 86   | 6    | 98   | 7     | 2    | 31   | 36   | 21   | 19   | SE\n",
       "19   | 3    | F    | N    | N     | 2    | Y     | N       | N     | 4    | 6     | 2    | F        | N       | S       | 27    | 15      | 14      | 26   | 13     | 45   | 28    | 33   | 24   | 63   | 30    | 118  | 3    | 121  | 8     | 4    | 34   | 36   | 30   | 33   | SD\n",
       "22   | 4    | M    | Y    | Y     | 3    | Y     | N       | Y     | 3.42 | 6     | 3    | B        | Y       | S       | 20    | 9       | 9       | 32   | 16     | 32   | 30    | 29   | 18   | 41   | 47    | 103  | 9    | 124  | 6     | 4    | 50   | 42   | 37   | 34   | AG\n",
       "18   | 1    | F    | N    | N     | 3    | N     | N       | N     | 3.7  | 2.5   | 1    | F        | Y       | E       | 21    | 16      | 15      | 25   | 18     | 32   | 30    | 46   | 19   | 48   | 53    | 113  | 16   | 131  | 6     | 2    | 33   | 32   | 29   | 33   | SD\n",
       "19   | 2    | M    | N    | N     | 3    | N     | N       | N     | 2.8  | 7     | 0    | B        | N       | E       | 23    | 13      | 15      | 25   | 15     | 19   | nan   | nan  | nan  | nan  | nan   | 105  | 16   | 121  | 5     | 5    | nan  | nan  | nan  | nan  | nan\n",
       "20   | 3    | M    | N    | Y     | 1    | Y     | N       | N     | 3.34 | 6.5   | 3    | B        | N       | E       | 29    | 12      | 10      | 21   | 18     | 32   | 32    | 30   | 23   | 62   | 23    | 95   | 4    | 104  | 11    | 6    | 35   | 32   | 30   | 32   | SD\n",
       "21   | 3    | F    | Y    | N     | 2    | Y     | N       | N     | 3.47 | 5.5   | 2    | F        | Y       | E       | 19    | 18      | 16      | 8    | 18     | 18   | 25    | 42   | 18   | 57   | 70    | 126  | 9    | 128  | 9     | nan  | 20   | 23   | 19   | 25   | SD\n",
       "24   | 2    | F    | Y    | Y     | 3    | N     | N       | N     | 2.05 | 2.5   | 0    | F        | Y       | E       | 25    | 17      | 17      | 22   | 30     | 40   | 30    | 36   | 18   | 55   | 50    | 107  | 14   | 108  | 9     | 8    | 31   | 32   | 33   | 32   | AG\n",
       "... (155 rows omitted)"
      ]
     },
     "execution_count": 4,
     "metadata": {},
     "output_type": "execute_result"
    }
   ],
   "source": [
    "pers"
   ]
  },
  {
   "cell_type": "markdown",
   "metadata": {},
   "source": [
    "## Sleep and Caffeine Data"
   ]
  },
  {
   "cell_type": "code",
   "execution_count": 5,
   "metadata": {},
   "outputs": [
    {
     "data": {
      "text/html": [
       "<table border=\"1\" class=\"dataframe\">\n",
       "    <thead>\n",
       "        <tr>\n",
       "            <th>Sex</th> <th>Age</th> <th>G21</th> <th>Caff</th> <th>Sleep</th>\n",
       "        </tr>\n",
       "    </thead>\n",
       "    <tbody>\n",
       "        <tr>\n",
       "            <td>M   </td> <td>22  </td> <td>Y   </td> <td>1   </td> <td>5    </td>\n",
       "        </tr>\n",
       "        <tr>\n",
       "            <td>F   </td> <td>19  </td> <td>N   </td> <td>0   </td> <td>7.5  </td>\n",
       "        </tr>\n",
       "        <tr>\n",
       "            <td>F   </td> <td>23  </td> <td>Y   </td> <td>2   </td> <td>8.5  </td>\n",
       "        </tr>\n",
       "        <tr>\n",
       "            <td>F   </td> <td>19  </td> <td>N   </td> <td>2   </td> <td>6    </td>\n",
       "        </tr>\n",
       "        <tr>\n",
       "            <td>M   </td> <td>22  </td> <td>Y   </td> <td>3   </td> <td>6    </td>\n",
       "        </tr>\n",
       "        <tr>\n",
       "            <td>F   </td> <td>18  </td> <td>N   </td> <td>1   </td> <td>2.5  </td>\n",
       "        </tr>\n",
       "        <tr>\n",
       "            <td>M   </td> <td>19  </td> <td>N   </td> <td>0   </td> <td>7    </td>\n",
       "        </tr>\n",
       "        <tr>\n",
       "            <td>M   </td> <td>20  </td> <td>N   </td> <td>3   </td> <td>6.5  </td>\n",
       "        </tr>\n",
       "        <tr>\n",
       "            <td>F   </td> <td>21  </td> <td>Y   </td> <td>2   </td> <td>5.5  </td>\n",
       "        </tr>\n",
       "        <tr>\n",
       "            <td>F   </td> <td>24  </td> <td>Y   </td> <td>0   </td> <td>2.5  </td>\n",
       "        </tr>\n",
       "    </tbody>\n",
       "</table>\n",
       "<p>... (155 rows omitted)</p>"
      ],
      "text/plain": [
       "Sex  | Age  | G21  | Caff | Sleep\n",
       "M    | 22   | Y    | 1    | 5\n",
       "F    | 19   | N    | 0    | 7.5\n",
       "F    | 23   | Y    | 2    | 8.5\n",
       "F    | 19   | N    | 2    | 6\n",
       "M    | 22   | Y    | 3    | 6\n",
       "F    | 18   | N    | 1    | 2.5\n",
       "M    | 19   | N    | 0    | 7\n",
       "M    | 20   | N    | 3    | 6.5\n",
       "F    | 21   | Y    | 2    | 5.5\n",
       "F    | 24   | Y    | 0    | 2.5\n",
       "... (155 rows omitted)"
      ]
     },
     "execution_count": 5,
     "metadata": {},
     "output_type": "execute_result"
    }
   ],
   "source": [
    "sleep = pers.select('Sex','Age','G21', 'Caff','Sleep')\n",
    "sleep"
   ]
  },
  {
   "cell_type": "markdown",
   "metadata": {},
   "source": [
    "### Data Analysis"
   ]
  },
  {
   "cell_type": "markdown",
   "metadata": {},
   "source": [
    "#### Pivot tables with third variable averaging"
   ]
  },
  {
   "cell_type": "code",
   "execution_count": 6,
   "metadata": {},
   "outputs": [
    {
     "name": "stderr",
     "output_type": "stream",
     "text": [
      "C:\\Users\\robbs\\anaconda3\\envs\\datasci\\lib\\site-packages\\datascience\\tables.py:920: VisibleDeprecationWarning: Creating an ndarray from ragged nested sequences (which is a list-or-tuple of lists-or-tuples-or ndarrays with different lengths or shapes) is deprecated. If you meant to do this, you must specify 'dtype=object' when creating the ndarray.\n",
      "  values = np.array(tuple(values))\n"
     ]
    },
    {
     "data": {
      "text/html": [
       "<table border=\"1\" class=\"dataframe\">\n",
       "    <thead>\n",
       "        <tr>\n",
       "            <th>G21</th> <th>F</th> <th>M</th>\n",
       "        </tr>\n",
       "    </thead>\n",
       "    <tbody>\n",
       "        <tr>\n",
       "            <td>N   </td> <td>70  </td> <td>36  </td>\n",
       "        </tr>\n",
       "        <tr>\n",
       "            <td>Y   </td> <td>26  </td> <td>33  </td>\n",
       "        </tr>\n",
       "    </tbody>\n",
       "</table>"
      ],
      "text/plain": [
       "G21  | F    | M\n",
       "N    | 70   | 36\n",
       "Y    | 26   | 33"
      ]
     },
     "execution_count": 6,
     "metadata": {},
     "output_type": "execute_result"
    }
   ],
   "source": [
    "sleep.pivot('Sex','G21')"
   ]
  },
  {
   "cell_type": "code",
   "execution_count": 7,
   "metadata": {},
   "outputs": [
    {
     "data": {
      "text/html": [
       "<table border=\"1\" class=\"dataframe\">\n",
       "    <thead>\n",
       "        <tr>\n",
       "            <th>G21</th> <th>F</th> <th>M</th>\n",
       "        </tr>\n",
       "    </thead>\n",
       "    <tbody>\n",
       "        <tr>\n",
       "            <td>N   </td> <td>6.66429</td> <td>6.48611</td>\n",
       "        </tr>\n",
       "        <tr>\n",
       "            <td>Y   </td> <td>5.96154</td> <td>5.84848</td>\n",
       "        </tr>\n",
       "    </tbody>\n",
       "</table>"
      ],
      "text/plain": [
       "G21  | F       | M\n",
       "N    | 6.66429 | 6.48611\n",
       "Y    | 5.96154 | 5.84848"
      ]
     },
     "execution_count": 7,
     "metadata": {},
     "output_type": "execute_result"
    }
   ],
   "source": [
    "sleep.pivot('Sex','G21','Sleep',np.average)"
   ]
  },
  {
   "cell_type": "code",
   "execution_count": 8,
   "metadata": {},
   "outputs": [
    {
     "data": {
      "text/html": [
       "<table border=\"1\" class=\"dataframe\">\n",
       "    <thead>\n",
       "        <tr>\n",
       "            <th>G21</th> <th>F</th> <th>M</th>\n",
       "        </tr>\n",
       "    </thead>\n",
       "    <tbody>\n",
       "        <tr>\n",
       "            <td>N   </td> <td>1.85714</td> <td>1.80556</td>\n",
       "        </tr>\n",
       "        <tr>\n",
       "            <td>Y   </td> <td>2.88462</td> <td>2.42424</td>\n",
       "        </tr>\n",
       "    </tbody>\n",
       "</table>"
      ],
      "text/plain": [
       "G21  | F       | M\n",
       "N    | 1.85714 | 1.80556\n",
       "Y    | 2.88462 | 2.42424"
      ]
     },
     "execution_count": 8,
     "metadata": {},
     "output_type": "execute_result"
    }
   ],
   "source": [
    "sleep.pivot('Sex','G21','Caff',np.average)"
   ]
  },
  {
   "cell_type": "markdown",
   "metadata": {},
   "source": [
    "From the pivot tables with averaging for Sleep and Caffeine, we see very little difference based on gender but more pronounced differences based on the \"older than 21 years\" variable (Y/N response)."
   ]
  },
  {
   "cell_type": "markdown",
   "metadata": {},
   "source": [
    "### Histograms with grouping"
   ]
  },
  {
   "cell_type": "code",
   "execution_count": 9,
   "metadata": {},
   "outputs": [
    {
     "data": {
      "image/png": "[encoded data removed]",
      "text/plain": [
       "<Figure size 432x288 with 1 Axes>"
      ]
     },
     "metadata": {},
     "output_type": "display_data"
    }
   ],
   "source": [
    "sleep.hist('Sleep',group='Sex')"
   ]
  },
  {
   "cell_type": "code",
   "execution_count": 10,
   "metadata": {},
   "outputs": [
    {
     "name": "stderr",
     "output_type": "stream",
     "text": [
      "C:\\Users\\robbs\\anaconda3\\envs\\datasci\\lib\\site-packages\\datascience\\tables.py:920: VisibleDeprecationWarning: Creating an ndarray from ragged nested sequences (which is a list-or-tuple of lists-or-tuples-or ndarrays with different lengths or shapes) is deprecated. If you meant to do this, you must specify 'dtype=object' when creating the ndarray.\n",
      "  values = np.array(tuple(values))\n"
     ]
    },
    {
     "data": {
      "image/png": "[encoded data removed]",
      "text/plain": [
       "<Figure size 432x288 with 1 Axes>"
      ]
     },
     "metadata": {},
     "output_type": "display_data"
    }
   ],
   "source": [
    "sleep.hist('Sleep',group='G21')"
   ]
  },
  {
   "cell_type": "code",
   "execution_count": 11,
   "metadata": {},
   "outputs": [
    {
     "name": "stderr",
     "output_type": "stream",
     "text": [
      "C:\\Users\\robbs\\anaconda3\\envs\\datasci\\lib\\site-packages\\datascience\\tables.py:920: VisibleDeprecationWarning: Creating an ndarray from ragged nested sequences (which is a list-or-tuple of lists-or-tuples-or ndarrays with different lengths or shapes) is deprecated. If you meant to do this, you must specify 'dtype=object' when creating the ndarray.\n",
      "  values = np.array(tuple(values))\n"
     ]
    },
    {
     "data": {
      "image/png": "[encoded data removed]",
      "text/plain": [
       "<Figure size 432x288 with 1 Axes>"
      ]
     },
     "metadata": {},
     "output_type": "display_data"
    }
   ],
   "source": [
    "sleep.hist('Caff',group='Sex')"
   ]
  },
  {
   "cell_type": "code",
   "execution_count": 12,
   "metadata": {},
   "outputs": [
    {
     "name": "stderr",
     "output_type": "stream",
     "text": [
      "C:\\Users\\robbs\\anaconda3\\envs\\datasci\\lib\\site-packages\\datascience\\tables.py:920: VisibleDeprecationWarning: Creating an ndarray from ragged nested sequences (which is a list-or-tuple of lists-or-tuples-or ndarrays with different lengths or shapes) is deprecated. If you meant to do this, you must specify 'dtype=object' when creating the ndarray.\n",
      "  values = np.array(tuple(values))\n"
     ]
    },
    {
     "data": {
      "image/png": "[encoded data removed]",
      "text/plain": [
       "<Figure size 432x288 with 1 Axes>"
      ]
     },
     "metadata": {},
     "output_type": "display_data"
    }
   ],
   "source": [
    "sleep.hist('Caff',group='G21')"
   ]
  },
  {
   "cell_type": "markdown",
   "metadata": {},
   "source": [
    "## Applied Statistics"
   ]
  },
  {
   "cell_type": "markdown",
   "metadata": {},
   "source": [
    "In the case of demographic grouping variables and a single numeric variables, resesearchers use a t-test which is calculated as\n",
    "\n",
    "$$t = \\frac{\\bar x_1 - \\bar x_2}{SE}$$\n",
    "\n",
    "where the standard error is\n",
    "\n",
    "$$SE = \\sqrt{\\frac{s_1^2}{n_1-1}+\\frac{s_2^2}{n_2-2}}$$\n",
    "\n",
    "We can create a couple simple functions for the standard error and degrees of freedom."
   ]
  },
  {
   "cell_type": "code",
   "execution_count": 24,
   "metadata": {},
   "outputs": [],
   "source": [
    "# Standard error for two sample t-test.\n",
    "def se_t2(array1,array2):\n",
    "    s1 = np.std(array1)\n",
    "    s2 = np.std(array2)\n",
    "    n1 = len(array1)\n",
    "    n2 = len(array2)\n",
    "    return np.sqrt(s1**2 / n1 + s2**2 / n2)\n",
    "\n",
    "# The simplest calculation of degrees of freedom for two sample t-test.\n",
    "def df_t2(array1,array2):\n",
    "    n1 = len(array1)\n",
    "    n2 = len(array2)\n",
    "    return n1 + n2 - 2\n",
    "\n",
    "# The t-test.\n",
    "def t2(array1,array2):\n",
    "    se = se_t2(array1, array2)\n",
    "    df = df_t2(array1, array2)\n",
    "    t_stat = ( np.average(array1) - np.average(array2) ) / se_t2(array1,array2)\n",
    "    p_val = t.pdf(t_stat, df)\n",
    "    print('t = ',t_stat)\n",
    "    print('p = ', p_val)"
   ]
  },
  {
   "cell_type": "markdown",
   "metadata": {},
   "source": [
    "### Creating arrays for Caff variable using G21 grouping and Sex grouping"
   ]
  },
  {
   "cell_type": "code",
   "execution_count": 25,
   "metadata": {},
   "outputs": [],
   "source": [
    "caff_older = sleep.where('G21',\"Y\").column('Caff')\n",
    "caff_younger = sleep.where('G21',\"N\").column('Caff')\n",
    "caff_males =  sleep.where('Sex','M').column('Caff')\n",
    "caff_females =  sleep.where('Sex','F').column('Caff')"
   ]
  },
  {
   "cell_type": "markdown",
   "metadata": {},
   "source": [
    "#### $t$-tests for Caffeine differences"
   ]
  },
  {
   "cell_type": "code",
   "execution_count": 26,
   "metadata": {},
   "outputs": [
    {
     "name": "stdout",
     "output_type": "stream",
     "text": [
      "t =  2.079730915017044\n",
      "p =  0.04651354459278619\n"
     ]
    }
   ],
   "source": [
    "t2(caff_older,caff_younger)"
   ]
  },
  {
   "cell_type": "code",
   "execution_count": 27,
   "metadata": {},
   "outputs": [
    {
     "name": "stdout",
     "output_type": "stream",
     "text": [
      "t =  -0.09812900179600526\n",
      "p =  0.3964060116347144\n"
     ]
    }
   ],
   "source": [
    "t2(caff_males,caff_females)"
   ]
  },
  {
   "cell_type": "markdown",
   "metadata": {},
   "source": [
    "We find a significant difference based on age ($\\alpha = 0.05$) but not based on gender."
   ]
  },
  {
   "cell_type": "markdown",
   "metadata": {},
   "source": [
    "### Creating arrays for Sleep variable using G21 grouping and Sex grouping"
   ]
  },
  {
   "cell_type": "code",
   "execution_count": 28,
   "metadata": {},
   "outputs": [],
   "source": [
    "sleep_older = sleep.where('G21',\"Y\").column('Sleep')\n",
    "sleep_younger = sleep.where('G21',\"N\").column('Sleep')\n",
    "sleep_males =  sleep.where('Sex','M').column('Sleep')\n",
    "sleep_females =  sleep.where('Sex','F').column('Sleep')"
   ]
  },
  {
   "cell_type": "code",
   "execution_count": 29,
   "metadata": {},
   "outputs": [
    {
     "name": "stdout",
     "output_type": "stream",
     "text": [
      "t =  -2.1685325151175956\n",
      "p =  0.03867038091790283\n"
     ]
    }
   ],
   "source": [
    "t2(sleep_older,sleep_younger)"
   ]
  },
  {
   "cell_type": "code",
   "execution_count": 30,
   "metadata": {},
   "outputs": [
    {
     "name": "stdout",
     "output_type": "stream",
     "text": [
      "t =  -0.9289081039622673\n",
      "p =  0.2583579292923739\n"
     ]
    }
   ],
   "source": [
    "t2(sleep_males,sleep_females)"
   ]
  },
  {
   "cell_type": "markdown",
   "metadata": {},
   "source": [
    "As with caffeine, we find a significant difference in sleep based on age ($\\alpha = 0.05$) but not based on gender."
   ]
  }
 ],
 "metadata": {
  "kernelspec": {
   "display_name": "Python 3",
   "language": "python",
   "name": "python3"
  },
  "language_info": {
   "codemirror_mode": {
    "name": "ipython",
    "version": 3
   },
   "file_extension": ".py",
   "mimetype": "text/x-python",
   "name": "python",
   "nbconvert_exporter": "python",
   "pygments_lexer": "ipython3",
   "version": "3.7.6"
  }
 },
 "nbformat": 4,
 "nbformat_minor": 4
}
